{
 "cells": [
  {
   "cell_type": "code",
   "execution_count": 18,
   "metadata": {},
   "outputs": [],
   "source": [
    "from scipy.io import loadmat\n",
    "import pandas as pd\n",
    "from sklearn.model_selection import cross_val_score, KFold, GridSearchCV, train_test_split\n",
    "\n",
    "#KNN\n",
    "from sklearn.neighbors import KNeighborsClassifier"
   ]
  },
  {
   "cell_type": "code",
   "execution_count": 1,
   "metadata": {},
   "outputs": [],
   "source": [
    "###### Function-00\n",
    "def acquire_data(file):\n",
    "    mnist = loadmat(file)\n",
    "    mnist_data = mnist[\"data\"].T\n",
    "    mnist_label = mnist[\"label\"][0]\n",
    "    mnist_features_df = pd.DataFrame(mnist_data)   \n",
    "    mnist_label_df = pd.DataFrame(mnist_label)\n",
    "    return mnist_features_df, mnist_label_df"
   ]
  },
  {
   "cell_type": "code",
   "execution_count": 2,
   "metadata": {},
   "outputs": [],
   "source": [
    "###### Function-01\n",
    "def clean_data(features, label):\n",
    "    features.columns = features.columns.astype(str) \n",
    "    label.columns =  label.columns.astype(str)    \n",
    "    label.columns =  label.columns.astype(str)\n",
    "    label.columns = ['label']    \n",
    "    mnist_df = features.merge(label,  on= features.index)    \n",
    "    mnist_df.drop(columns = ['key_0'], inplace = True)    \n",
    "    return mnist_df"
   ]
  },
  {
   "cell_type": "code",
   "execution_count": 15,
   "metadata": {},
   "outputs": [],
   "source": [
    "###### Function-02\n",
    "def generate_knn_model(features, label, k):\n",
    "    \"\"\"\"\n",
    "    Params: 1)features set. 2)labels set. 3)k: number of neighbors.\n",
    "    Returns training_score, validation_score, K-NN model object\n",
    "    \"\"\"\n",
    "    knn = KNeighborsClassifier(n_neighbors=k)\n",
    "    print('building the model')\n",
    "    knn.fit(features, label)\n",
    "    print('scoring on training dataset')\n",
    "    training_score = knn.score(features,label)\n",
    "    return training_score , knn"
   ]
  },
  {
   "cell_type": "code",
   "execution_count": 21,
   "metadata": {},
   "outputs": [],
   "source": [
    "###### Function-03\n",
    "def test_model(classifier, features, labels, k_folds):\n",
    "    \"\"\"\n",
    "    Params: 1)Classifier object. 2)Testing features set(DataFrame). 3)Testing labels set(DataFrame). 4)k_folds for cross-validation(int).\n",
    "    Returns: validation score.\n",
    "    \"\"\"\n",
    "    validation_score= cross_val_score(classifier,features, labels, cv= k_folds).mean()\n",
    "    print('Validation Score: {}'.format(validation_score))\n",
    "    return validation_score"
   ]
  },
  {
   "cell_type": "code",
   "execution_count": 8,
   "metadata": {},
   "outputs": [],
   "source": [
    "df = clean_data(*acquire_data(\"mnist-original.mat\"))"
   ]
  },
  {
   "cell_type": "code",
   "execution_count": 11,
   "metadata": {},
   "outputs": [],
   "source": [
    "df_train, df_test = train_test_split(df, test_size=0.2, shuffle = True)"
   ]
  },
  {
   "cell_type": "code",
   "execution_count": 13,
   "metadata": {},
   "outputs": [],
   "source": [
    "label_train = df_train.loc[:, df_train.columns == 'label']\n",
    "features_train = df_train.loc[:, df_train.columns != 'label']"
   ]
  },
  {
   "cell_type": "markdown",
   "metadata": {},
   "source": [
    "# k-Nearest Neighbors"
   ]
  },
  {
   "cell_type": "code",
   "execution_count": 19,
   "metadata": {},
   "outputs": [
    {
     "name": "stdout",
     "output_type": "stream",
     "text": [
      "building the model\n",
      "scoring on training dataset\n",
      "CPU times: user 1h 2min 30s, sys: 20.9 s, total: 1h 2min 51s\n",
      "Wall time: 1h 4min 36s\n"
     ]
    }
   ],
   "source": [
    "%%time\n",
    "train_score, knn = generate_knn_model(features_train, label_train.values.ravel(),5)\n"
   ]
  },
  {
   "cell_type": "code",
   "execution_count": 23,
   "metadata": {},
   "outputs": [
    {
     "data": {
      "text/plain": [
       "0.9811607142857143"
      ]
     },
     "execution_count": 23,
     "metadata": {},
     "output_type": "execute_result"
    }
   ],
   "source": [
    "train_score"
   ]
  },
  {
   "cell_type": "code",
   "execution_count": 22,
   "metadata": {},
   "outputs": [
    {
     "name": "stdout",
     "output_type": "stream",
     "text": [
      "Validation Score: 0.970017745232789\n",
      "CPU times: user 1h 2min 33s, sys: 19.9 s, total: 1h 2min 53s\n",
      "Wall time: 1h 10min 50s\n"
     ]
    }
   ],
   "source": [
    "%%time\n",
    "knn_validation_score = test_model(knn, features_train, label_train.values.ravel(), 10)\n"
   ]
  },
  {
   "cell_type": "code",
   "execution_count": 24,
   "metadata": {},
   "outputs": [
    {
     "data": {
      "text/plain": [
       "0.970017745232789"
      ]
     },
     "execution_count": 24,
     "metadata": {},
     "output_type": "execute_result"
    }
   ],
   "source": [
    "knn_validation_score"
   ]
  }
 ],
 "metadata": {
  "kernelspec": {
   "display_name": "Python 3",
   "language": "python",
   "name": "python3"
  },
  "language_info": {
   "codemirror_mode": {
    "name": "ipython",
    "version": 3
   },
   "file_extension": ".py",
   "mimetype": "text/x-python",
   "name": "python",
   "nbconvert_exporter": "python",
   "pygments_lexer": "ipython3",
   "version": "3.6.9"
  }
 },
 "nbformat": 4,
 "nbformat_minor": 2
}
